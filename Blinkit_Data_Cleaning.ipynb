{
 "cells": [
  {
   "cell_type": "markdown",
   "id": "52c3f39a-13e0-44df-a98f-8ea9b835420d",
   "metadata": {},
   "source": [
    "# 🛠 Blinkit Dataset Cleaning Project"
   ]
  },
  {
   "cell_type": "markdown",
   "id": "5da461c1-037e-413c-a885-a816ff3bdc4e",
   "metadata": {},
   "source": [
    "## Step 1: Project Introduction"
   ]
  },
  {
   "cell_type": "markdown",
   "id": "326f71d3-4ea6-4893-a02b-8e1ad5362233",
   "metadata": {},
   "source": [
    "#### Objective:\n",
    "- The goal of this project is to perform data cleaning on the Blinkit dataset to prepare it for further analysis and visualization.\n",
    "- The cleaned dataset will be used in a separate Power BI dashboard project."
   ]
  },
  {
   "cell_type": "markdown",
   "id": "92d32eff-8421-4d7d-9515-d4af9e0313e6",
   "metadata": {},
   "source": [
    "#### Tools Used:\n",
    "- Python\n",
    "- Jupyter Notebook\n",
    "- Libraries: pandas, numpy"
   ]
  },
  {
   "cell_type": "markdown",
   "id": "f8cb4b50-533d-4c42-9f87-f282a07d84fa",
   "metadata": {},
   "source": [
    "## Step 2: Import Libraries"
   ]
  },
  {
   "cell_type": "code",
   "execution_count": 3,
   "id": "3d8c1a90-89be-41a0-a97c-39dc4afd6d26",
   "metadata": {},
   "outputs": [],
   "source": [
    "# Importing essential libraries\n",
    "import pandas as pd\n",
    "import numpy as np"
   ]
  },
  {
   "cell_type": "markdown",
   "id": "2f3bb5fb-12cd-4ddb-8a76-1564d4be3d35",
   "metadata": {},
   "source": [
    "## Step 3: Load the Dataset"
   ]
  },
  {
   "cell_type": "code",
   "execution_count": 4,
   "id": "ef44d050-6d25-4084-b7da-b82edbe997a1",
   "metadata": {},
   "outputs": [],
   "source": [
    "# Loading the dataset\n",
    "import os\n",
    "os.chdir(r'F:\\1. STARTING YEAR_2024\\1. DATA_ANALYST\\7. PORJECTS\\PORTFOLIO\\1. DATA_PROJECT\\1. POWER_BI\\3. BLINKIT PROJECT\\1. EXCEL_FILE')\n",
    "df=pd.read_excel('Blinkit_Dataset.xlsx')"
   ]
  },
  {
   "cell_type": "code",
   "execution_count": 5,
   "id": "14387a4b-4ab5-41b5-a02a-2a1d98b676b1",
   "metadata": {},
   "outputs": [
    {
     "data": {
      "text/html": [
       "<div>\n",
       "<style scoped>\n",
       "    .dataframe tbody tr th:only-of-type {\n",
       "        vertical-align: middle;\n",
       "    }\n",
       "\n",
       "    .dataframe tbody tr th {\n",
       "        vertical-align: top;\n",
       "    }\n",
       "\n",
       "    .dataframe thead th {\n",
       "        text-align: right;\n",
       "    }\n",
       "</style>\n",
       "<table border=\"1\" class=\"dataframe\">\n",
       "  <thead>\n",
       "    <tr style=\"text-align: right;\">\n",
       "      <th></th>\n",
       "      <th>Item_Identifier</th>\n",
       "      <th>Item_Weight</th>\n",
       "      <th>Item_Fat_Content</th>\n",
       "      <th>Item_Visibility_Percentage</th>\n",
       "      <th>Item_Type</th>\n",
       "      <th>Item_MRP</th>\n",
       "      <th>Outlet_Identifier</th>\n",
       "      <th>Outlet_Establishment_Year</th>\n",
       "      <th>Outlet_Size</th>\n",
       "      <th>Outlet_Location_Type</th>\n",
       "      <th>Outlet_Type</th>\n",
       "      <th>Item_Outlet_Sales</th>\n",
       "    </tr>\n",
       "  </thead>\n",
       "  <tbody>\n",
       "    <tr>\n",
       "      <th>0</th>\n",
       "      <td>FDA15</td>\n",
       "      <td>9.30</td>\n",
       "      <td>Low Fat</td>\n",
       "      <td>0.02</td>\n",
       "      <td>Dairy</td>\n",
       "      <td>249.81</td>\n",
       "      <td>OUT049</td>\n",
       "      <td>1999</td>\n",
       "      <td>Medium</td>\n",
       "      <td>Tier 1</td>\n",
       "      <td>Supermarket Type1</td>\n",
       "      <td>3735.14</td>\n",
       "    </tr>\n",
       "    <tr>\n",
       "      <th>1</th>\n",
       "      <td>DRC01</td>\n",
       "      <td>5.92</td>\n",
       "      <td>Regular</td>\n",
       "      <td>0.02</td>\n",
       "      <td>Soft Drinks</td>\n",
       "      <td>48.27</td>\n",
       "      <td>OUT018</td>\n",
       "      <td>2009</td>\n",
       "      <td>Medium</td>\n",
       "      <td>Tier 3</td>\n",
       "      <td>Supermarket Type2</td>\n",
       "      <td>443.42</td>\n",
       "    </tr>\n",
       "    <tr>\n",
       "      <th>2</th>\n",
       "      <td>FDN15</td>\n",
       "      <td>17.50</td>\n",
       "      <td>Low Fat</td>\n",
       "      <td>0.02</td>\n",
       "      <td>Meat</td>\n",
       "      <td>141.62</td>\n",
       "      <td>OUT049</td>\n",
       "      <td>1999</td>\n",
       "      <td>Medium</td>\n",
       "      <td>Tier 1</td>\n",
       "      <td>Supermarket Type1</td>\n",
       "      <td>2097.27</td>\n",
       "    </tr>\n",
       "    <tr>\n",
       "      <th>3</th>\n",
       "      <td>FDX07</td>\n",
       "      <td>19.20</td>\n",
       "      <td>Regular</td>\n",
       "      <td>0.00</td>\n",
       "      <td>Fruits and Vegetables</td>\n",
       "      <td>182.10</td>\n",
       "      <td>OUT010</td>\n",
       "      <td>1998</td>\n",
       "      <td>NaN</td>\n",
       "      <td>Tier 3</td>\n",
       "      <td>Grocery Store</td>\n",
       "      <td>732.38</td>\n",
       "    </tr>\n",
       "    <tr>\n",
       "      <th>4</th>\n",
       "      <td>NCD19</td>\n",
       "      <td>8.93</td>\n",
       "      <td>Low Fat</td>\n",
       "      <td>0.00</td>\n",
       "      <td>Household</td>\n",
       "      <td>53.86</td>\n",
       "      <td>OUT013</td>\n",
       "      <td>1987</td>\n",
       "      <td>High</td>\n",
       "      <td>Tier 3</td>\n",
       "      <td>Supermarket Type1</td>\n",
       "      <td>994.71</td>\n",
       "    </tr>\n",
       "  </tbody>\n",
       "</table>\n",
       "</div>"
      ],
      "text/plain": [
       "  Item_Identifier  Item_Weight Item_Fat_Content  Item_Visibility_Percentage  \\\n",
       "0           FDA15         9.30          Low Fat                        0.02   \n",
       "1           DRC01         5.92          Regular                        0.02   \n",
       "2           FDN15        17.50          Low Fat                        0.02   \n",
       "3           FDX07        19.20          Regular                        0.00   \n",
       "4           NCD19         8.93          Low Fat                        0.00   \n",
       "\n",
       "               Item_Type  Item_MRP Outlet_Identifier  \\\n",
       "0                  Dairy    249.81            OUT049   \n",
       "1            Soft Drinks     48.27            OUT018   \n",
       "2                   Meat    141.62            OUT049   \n",
       "3  Fruits and Vegetables    182.10            OUT010   \n",
       "4              Household     53.86            OUT013   \n",
       "\n",
       "   Outlet_Establishment_Year Outlet_Size Outlet_Location_Type  \\\n",
       "0                       1999      Medium               Tier 1   \n",
       "1                       2009      Medium               Tier 3   \n",
       "2                       1999      Medium               Tier 1   \n",
       "3                       1998         NaN               Tier 3   \n",
       "4                       1987        High               Tier 3   \n",
       "\n",
       "         Outlet_Type  Item_Outlet_Sales  \n",
       "0  Supermarket Type1            3735.14  \n",
       "1  Supermarket Type2             443.42  \n",
       "2  Supermarket Type1            2097.27  \n",
       "3      Grocery Store             732.38  \n",
       "4  Supermarket Type1             994.71  "
      ]
     },
     "execution_count": 5,
     "metadata": {},
     "output_type": "execute_result"
    }
   ],
   "source": [
    "# Displaying the first five rows\n",
    "df.head()"
   ]
  },
  {
   "cell_type": "markdown",
   "id": "47570c05-6527-4fc3-94cb-ae7f656192d9",
   "metadata": {},
   "source": [
    "## Step 4: Initial Data Analysis"
   ]
  },
  {
   "cell_type": "code",
   "execution_count": 6,
   "id": "7cf989af-258a-416a-af96-bf4fd5faa597",
   "metadata": {},
   "outputs": [
    {
     "name": "stdout",
     "output_type": "stream",
     "text": [
      "Shape of the dataset: (1559, 12)\n"
     ]
    }
   ],
   "source": [
    "# Checking the shape of the dataset\n",
    "print(\"Shape of the dataset:\", df.shape)"
   ]
  },
  {
   "cell_type": "code",
   "execution_count": 7,
   "id": "3970bed0-0bad-4aac-ac79-fe769597fa29",
   "metadata": {},
   "outputs": [
    {
     "name": "stdout",
     "output_type": "stream",
     "text": [
      "<class 'pandas.core.frame.DataFrame'>\n",
      "RangeIndex: 1559 entries, 0 to 1558\n",
      "Data columns (total 12 columns):\n",
      " #   Column                      Non-Null Count  Dtype  \n",
      "---  ------                      --------------  -----  \n",
      " 0   Item_Identifier             1559 non-null   object \n",
      " 1   Item_Weight                 1305 non-null   float64\n",
      " 2   Item_Fat_Content            1559 non-null   object \n",
      " 3   Item_Visibility_Percentage  1559 non-null   float64\n",
      " 4   Item_Type                   1559 non-null   object \n",
      " 5   Item_MRP                    1559 non-null   float64\n",
      " 6   Outlet_Identifier           1559 non-null   object \n",
      " 7   Outlet_Establishment_Year   1559 non-null   int64  \n",
      " 8   Outlet_Size                 1103 non-null   object \n",
      " 9   Outlet_Location_Type        1559 non-null   object \n",
      " 10  Outlet_Type                 1559 non-null   object \n",
      " 11  Item_Outlet_Sales           1559 non-null   float64\n",
      "dtypes: float64(4), int64(1), object(7)\n",
      "memory usage: 146.3+ KB\n"
     ]
    }
   ],
   "source": [
    "# Getting information about columns and data types\n",
    "df.info()"
   ]
  },
  {
   "cell_type": "code",
   "execution_count": 8,
   "id": "51220171-3cd8-4b56-8e20-31317e11b741",
   "metadata": {},
   "outputs": [
    {
     "name": "stdout",
     "output_type": "stream",
     "text": [
      "\n",
      "Missing Values:\n",
      " Item_Identifier                 0\n",
      "Item_Weight                   254\n",
      "Item_Fat_Content                0\n",
      "Item_Visibility_Percentage      0\n",
      "Item_Type                       0\n",
      "Item_MRP                        0\n",
      "Outlet_Identifier               0\n",
      "Outlet_Establishment_Year       0\n",
      "Outlet_Size                   456\n",
      "Outlet_Location_Type            0\n",
      "Outlet_Type                     0\n",
      "Item_Outlet_Sales               0\n",
      "dtype: int64\n"
     ]
    }
   ],
   "source": [
    "# Checking for missing values\n",
    "print(\"\\nMissing Values:\\n\", df.isnull().sum())"
   ]
  },
  {
   "cell_type": "code",
   "execution_count": 9,
   "id": "9e1a4d57-d9e2-432a-9e39-7853b20f0d56",
   "metadata": {},
   "outputs": [
    {
     "name": "stdout",
     "output_type": "stream",
     "text": [
      "\n",
      "Duplicate Rows: 0\n"
     ]
    }
   ],
   "source": [
    "# Checking for duplicate rows\n",
    "print(\"\\nDuplicate Rows:\", df.duplicated().sum())"
   ]
  },
  {
   "cell_type": "code",
   "execution_count": 10,
   "id": "34159836-2017-4b9a-83b8-a34e217c2a8a",
   "metadata": {},
   "outputs": [
    {
     "data": {
      "text/html": [
       "<div>\n",
       "<style scoped>\n",
       "    .dataframe tbody tr th:only-of-type {\n",
       "        vertical-align: middle;\n",
       "    }\n",
       "\n",
       "    .dataframe tbody tr th {\n",
       "        vertical-align: top;\n",
       "    }\n",
       "\n",
       "    .dataframe thead th {\n",
       "        text-align: right;\n",
       "    }\n",
       "</style>\n",
       "<table border=\"1\" class=\"dataframe\">\n",
       "  <thead>\n",
       "    <tr style=\"text-align: right;\">\n",
       "      <th></th>\n",
       "      <th>Item_Weight</th>\n",
       "      <th>Item_Visibility_Percentage</th>\n",
       "      <th>Item_MRP</th>\n",
       "      <th>Outlet_Establishment_Year</th>\n",
       "      <th>Item_Outlet_Sales</th>\n",
       "    </tr>\n",
       "  </thead>\n",
       "  <tbody>\n",
       "    <tr>\n",
       "      <th>count</th>\n",
       "      <td>1305.000000</td>\n",
       "      <td>1559.000000</td>\n",
       "      <td>1559.000000</td>\n",
       "      <td>1559.000000</td>\n",
       "      <td>1559.000000</td>\n",
       "    </tr>\n",
       "    <tr>\n",
       "      <th>mean</th>\n",
       "      <td>12.804567</td>\n",
       "      <td>0.065606</td>\n",
       "      <td>140.966434</td>\n",
       "      <td>1997.817191</td>\n",
       "      <td>2192.905279</td>\n",
       "    </tr>\n",
       "    <tr>\n",
       "      <th>std</th>\n",
       "      <td>4.628861</td>\n",
       "      <td>0.049954</td>\n",
       "      <td>62.082356</td>\n",
       "      <td>8.332658</td>\n",
       "      <td>1689.872865</td>\n",
       "    </tr>\n",
       "    <tr>\n",
       "      <th>min</th>\n",
       "      <td>4.555000</td>\n",
       "      <td>0.000000</td>\n",
       "      <td>31.290000</td>\n",
       "      <td>1985.000000</td>\n",
       "      <td>37.280000</td>\n",
       "    </tr>\n",
       "    <tr>\n",
       "      <th>25%</th>\n",
       "      <td>8.680000</td>\n",
       "      <td>0.030000</td>\n",
       "      <td>94.015000</td>\n",
       "      <td>1987.000000</td>\n",
       "      <td>864.210000</td>\n",
       "    </tr>\n",
       "    <tr>\n",
       "      <th>50%</th>\n",
       "      <td>12.600000</td>\n",
       "      <td>0.050000</td>\n",
       "      <td>142.280000</td>\n",
       "      <td>1999.000000</td>\n",
       "      <td>1813.640000</td>\n",
       "    </tr>\n",
       "    <tr>\n",
       "      <th>75%</th>\n",
       "      <td>16.750000</td>\n",
       "      <td>0.090000</td>\n",
       "      <td>185.370000</td>\n",
       "      <td>2004.000000</td>\n",
       "      <td>3047.035000</td>\n",
       "    </tr>\n",
       "    <tr>\n",
       "      <th>max</th>\n",
       "      <td>21.350000</td>\n",
       "      <td>0.300000</td>\n",
       "      <td>265.220000</td>\n",
       "      <td>2009.000000</td>\n",
       "      <td>11445.100000</td>\n",
       "    </tr>\n",
       "  </tbody>\n",
       "</table>\n",
       "</div>"
      ],
      "text/plain": [
       "       Item_Weight  Item_Visibility_Percentage     Item_MRP  \\\n",
       "count  1305.000000                 1559.000000  1559.000000   \n",
       "mean     12.804567                    0.065606   140.966434   \n",
       "std       4.628861                    0.049954    62.082356   \n",
       "min       4.555000                    0.000000    31.290000   \n",
       "25%       8.680000                    0.030000    94.015000   \n",
       "50%      12.600000                    0.050000   142.280000   \n",
       "75%      16.750000                    0.090000   185.370000   \n",
       "max      21.350000                    0.300000   265.220000   \n",
       "\n",
       "       Outlet_Establishment_Year  Item_Outlet_Sales  \n",
       "count                1559.000000        1559.000000  \n",
       "mean                 1997.817191        2192.905279  \n",
       "std                     8.332658        1689.872865  \n",
       "min                  1985.000000          37.280000  \n",
       "25%                  1987.000000         864.210000  \n",
       "50%                  1999.000000        1813.640000  \n",
       "75%                  2004.000000        3047.035000  \n",
       "max                  2009.000000       11445.100000  "
      ]
     },
     "execution_count": 10,
     "metadata": {},
     "output_type": "execute_result"
    }
   ],
   "source": [
    "# Basic statistical summary\n",
    "df.describe()"
   ]
  },
  {
   "cell_type": "markdown",
   "id": "07381385-8189-4da4-8748-7782911791eb",
   "metadata": {},
   "source": [
    "## Step 5: Data Cleaning"
   ]
  },
  {
   "cell_type": "markdown",
   "id": "aaeef583-ec34-422c-8f86-fa6e9fdc9978",
   "metadata": {},
   "source": [
    "#### 5.1 Handling Missing Values"
   ]
  },
  {
   "cell_type": "code",
   "execution_count": 11,
   "id": "18a34bdc-7213-4f97-ad7c-dbd80a1e23ac",
   "metadata": {},
   "outputs": [],
   "source": [
    "# Lambda function to fill in missing values in one single step.\n",
    "df=df.apply(lambda x:x. fillna(x.mean() if x.dtype=='float'else x.fillna (x.value_counts().index[0])))"
   ]
  },
  {
   "cell_type": "code",
   "execution_count": 12,
   "id": "5e312ab2-2ac5-4b82-85de-789ba7329f64",
   "metadata": {},
   "outputs": [
    {
     "data": {
      "text/plain": [
       "Item_Identifier               0\n",
       "Item_Weight                   0\n",
       "Item_Fat_Content              0\n",
       "Item_Visibility_Percentage    0\n",
       "Item_Type                     0\n",
       "Item_MRP                      0\n",
       "Outlet_Identifier             0\n",
       "Outlet_Establishment_Year     0\n",
       "Outlet_Size                   0\n",
       "Outlet_Location_Type          0\n",
       "Outlet_Type                   0\n",
       "Item_Outlet_Sales             0\n",
       "dtype: int64"
      ]
     },
     "execution_count": 12,
     "metadata": {},
     "output_type": "execute_result"
    }
   ],
   "source": [
    "# Review the dataset again after completing the process of filling in any missing values.\n",
    "df.isnull().sum()"
   ]
  },
  {
   "cell_type": "markdown",
   "id": "678551fa-e255-4aa4-bc12-70059f237411",
   "metadata": {},
   "source": [
    "#### 5.2 Removing Duplicates"
   ]
  },
  {
   "cell_type": "code",
   "execution_count": 13,
   "id": "4f368e46-a9ca-4726-964d-65b4879fb62d",
   "metadata": {},
   "outputs": [],
   "source": [
    "# Dropping duplicate rows if any\n",
    "df = df.drop_duplicates()"
   ]
  },
  {
   "cell_type": "markdown",
   "id": "73c93da2-1404-418d-b278-43d853062a3d",
   "metadata": {},
   "source": [
    "#### 5.3 Standardizing Column Names"
   ]
  },
  {
   "cell_type": "code",
   "execution_count": 14,
   "id": "0014ceb7-6ff0-4011-a567-08dee7793e4b",
   "metadata": {},
   "outputs": [],
   "source": [
    "# Renaming columns to lower case and replacing spaces with underscores\n",
    "df.columns = df.columns.str.strip().str.lower().str.replace(' ', '_')"
   ]
  },
  {
   "cell_type": "markdown",
   "id": "a5ae5d30-b1ba-42ce-a867-3dfe50e08d41",
   "metadata": {},
   "source": [
    "## Step 6: Final Dataset Overview"
   ]
  },
  {
   "cell_type": "code",
   "execution_count": 15,
   "id": "bcb1e4df-7c14-4e04-8105-d66abd184453",
   "metadata": {},
   "outputs": [
    {
     "name": "stdout",
     "output_type": "stream",
     "text": [
      "<class 'pandas.core.frame.DataFrame'>\n",
      "RangeIndex: 1559 entries, 0 to 1558\n",
      "Data columns (total 12 columns):\n",
      " #   Column                      Non-Null Count  Dtype  \n",
      "---  ------                      --------------  -----  \n",
      " 0   item_identifier             1559 non-null   object \n",
      " 1   item_weight                 1559 non-null   float64\n",
      " 2   item_fat_content            1559 non-null   object \n",
      " 3   item_visibility_percentage  1559 non-null   float64\n",
      " 4   item_type                   1559 non-null   object \n",
      " 5   item_mrp                    1559 non-null   float64\n",
      " 6   outlet_identifier           1559 non-null   object \n",
      " 7   outlet_establishment_year   1559 non-null   int64  \n",
      " 8   outlet_size                 1559 non-null   object \n",
      " 9   outlet_location_type        1559 non-null   object \n",
      " 10  outlet_type                 1559 non-null   object \n",
      " 11  item_outlet_sales           1559 non-null   float64\n",
      "dtypes: float64(4), int64(1), object(7)\n",
      "memory usage: 146.3+ KB\n"
     ]
    },
    {
     "data": {
      "text/html": [
       "<div>\n",
       "<style scoped>\n",
       "    .dataframe tbody tr th:only-of-type {\n",
       "        vertical-align: middle;\n",
       "    }\n",
       "\n",
       "    .dataframe tbody tr th {\n",
       "        vertical-align: top;\n",
       "    }\n",
       "\n",
       "    .dataframe thead th {\n",
       "        text-align: right;\n",
       "    }\n",
       "</style>\n",
       "<table border=\"1\" class=\"dataframe\">\n",
       "  <thead>\n",
       "    <tr style=\"text-align: right;\">\n",
       "      <th></th>\n",
       "      <th>item_identifier</th>\n",
       "      <th>item_weight</th>\n",
       "      <th>item_fat_content</th>\n",
       "      <th>item_visibility_percentage</th>\n",
       "      <th>item_type</th>\n",
       "      <th>item_mrp</th>\n",
       "      <th>outlet_identifier</th>\n",
       "      <th>outlet_establishment_year</th>\n",
       "      <th>outlet_size</th>\n",
       "      <th>outlet_location_type</th>\n",
       "      <th>outlet_type</th>\n",
       "      <th>item_outlet_sales</th>\n",
       "    </tr>\n",
       "  </thead>\n",
       "  <tbody>\n",
       "    <tr>\n",
       "      <th>0</th>\n",
       "      <td>FDA15</td>\n",
       "      <td>9.30</td>\n",
       "      <td>Low Fat</td>\n",
       "      <td>0.02</td>\n",
       "      <td>Dairy</td>\n",
       "      <td>249.81</td>\n",
       "      <td>OUT049</td>\n",
       "      <td>1999</td>\n",
       "      <td>Medium</td>\n",
       "      <td>Tier 1</td>\n",
       "      <td>Supermarket Type1</td>\n",
       "      <td>3735.14</td>\n",
       "    </tr>\n",
       "    <tr>\n",
       "      <th>1</th>\n",
       "      <td>DRC01</td>\n",
       "      <td>5.92</td>\n",
       "      <td>Regular</td>\n",
       "      <td>0.02</td>\n",
       "      <td>Soft Drinks</td>\n",
       "      <td>48.27</td>\n",
       "      <td>OUT018</td>\n",
       "      <td>2009</td>\n",
       "      <td>Medium</td>\n",
       "      <td>Tier 3</td>\n",
       "      <td>Supermarket Type2</td>\n",
       "      <td>443.42</td>\n",
       "    </tr>\n",
       "    <tr>\n",
       "      <th>2</th>\n",
       "      <td>FDN15</td>\n",
       "      <td>17.50</td>\n",
       "      <td>Low Fat</td>\n",
       "      <td>0.02</td>\n",
       "      <td>Meat</td>\n",
       "      <td>141.62</td>\n",
       "      <td>OUT049</td>\n",
       "      <td>1999</td>\n",
       "      <td>Medium</td>\n",
       "      <td>Tier 1</td>\n",
       "      <td>Supermarket Type1</td>\n",
       "      <td>2097.27</td>\n",
       "    </tr>\n",
       "    <tr>\n",
       "      <th>3</th>\n",
       "      <td>FDX07</td>\n",
       "      <td>19.20</td>\n",
       "      <td>Regular</td>\n",
       "      <td>0.00</td>\n",
       "      <td>Fruits and Vegetables</td>\n",
       "      <td>182.10</td>\n",
       "      <td>OUT010</td>\n",
       "      <td>1998</td>\n",
       "      <td>Medium</td>\n",
       "      <td>Tier 3</td>\n",
       "      <td>Grocery Store</td>\n",
       "      <td>732.38</td>\n",
       "    </tr>\n",
       "    <tr>\n",
       "      <th>4</th>\n",
       "      <td>NCD19</td>\n",
       "      <td>8.93</td>\n",
       "      <td>Low Fat</td>\n",
       "      <td>0.00</td>\n",
       "      <td>Household</td>\n",
       "      <td>53.86</td>\n",
       "      <td>OUT013</td>\n",
       "      <td>1987</td>\n",
       "      <td>High</td>\n",
       "      <td>Tier 3</td>\n",
       "      <td>Supermarket Type1</td>\n",
       "      <td>994.71</td>\n",
       "    </tr>\n",
       "  </tbody>\n",
       "</table>\n",
       "</div>"
      ],
      "text/plain": [
       "  item_identifier  item_weight item_fat_content  item_visibility_percentage  \\\n",
       "0           FDA15         9.30          Low Fat                        0.02   \n",
       "1           DRC01         5.92          Regular                        0.02   \n",
       "2           FDN15        17.50          Low Fat                        0.02   \n",
       "3           FDX07        19.20          Regular                        0.00   \n",
       "4           NCD19         8.93          Low Fat                        0.00   \n",
       "\n",
       "               item_type  item_mrp outlet_identifier  \\\n",
       "0                  Dairy    249.81            OUT049   \n",
       "1            Soft Drinks     48.27            OUT018   \n",
       "2                   Meat    141.62            OUT049   \n",
       "3  Fruits and Vegetables    182.10            OUT010   \n",
       "4              Household     53.86            OUT013   \n",
       "\n",
       "   outlet_establishment_year outlet_size outlet_location_type  \\\n",
       "0                       1999      Medium               Tier 1   \n",
       "1                       2009      Medium               Tier 3   \n",
       "2                       1999      Medium               Tier 1   \n",
       "3                       1998      Medium               Tier 3   \n",
       "4                       1987        High               Tier 3   \n",
       "\n",
       "         outlet_type  item_outlet_sales  \n",
       "0  Supermarket Type1            3735.14  \n",
       "1  Supermarket Type2             443.42  \n",
       "2  Supermarket Type1            2097.27  \n",
       "3      Grocery Store             732.38  \n",
       "4  Supermarket Type1             994.71  "
      ]
     },
     "execution_count": 15,
     "metadata": {},
     "output_type": "execute_result"
    }
   ],
   "source": [
    "# Checking the cleaned data\n",
    "df.info()\n",
    "df.head()"
   ]
  },
  {
   "cell_type": "markdown",
   "id": "106de39c-1252-4cc8-826b-74acc64299d1",
   "metadata": {},
   "source": [
    "## Step 7: Save the Cleaned Dataset"
   ]
  },
  {
   "cell_type": "code",
   "execution_count": 17,
   "id": "8a294346-c5b0-470f-aef0-537e0943d30a",
   "metadata": {},
   "outputs": [
    {
     "name": "stdout",
     "output_type": "stream",
     "text": [
      "Cleaned dataset saved successfully!\n"
     ]
    }
   ],
   "source": [
    "# Saving the cleaned dataset for Power BI analysis\n",
    "df.to_excel('Cleaned_Blinkit_Dataset.xlsx', index=False)\n",
    "print(\"Cleaned dataset saved successfully!\")"
   ]
  }
 ],
 "metadata": {
  "kernelspec": {
   "display_name": "Python [conda env:base] *",
   "language": "python",
   "name": "conda-base-py"
  },
  "language_info": {
   "codemirror_mode": {
    "name": "ipython",
    "version": 3
   },
   "file_extension": ".py",
   "mimetype": "text/x-python",
   "name": "python",
   "nbconvert_exporter": "python",
   "pygments_lexer": "ipython3",
   "version": "3.12.7"
  }
 },
 "nbformat": 4,
 "nbformat_minor": 5
}
